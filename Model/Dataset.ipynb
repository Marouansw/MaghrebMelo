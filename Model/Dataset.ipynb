{
 "cells": [
  {
   "cell_type": "code",
   "execution_count": 7,
   "metadata": {},
   "outputs": [],
   "source": [
    "import os\n",
    "import csv\n",
    "\n",
    "# Define the directory containing the music files\n",
    "MUSIC_DIR = \"MoroccanMusic\"  # Replace with your actual directory name\n",
    "OUTPUT_CSV = \"data.csv\"  # Output CSV file name\n"
   ]
  },
  {
   "cell_type": "code",
   "execution_count": 8,
   "metadata": {},
   "outputs": [
    {
     "name": "stdout",
     "output_type": "stream",
     "text": [
      "CSV file created successfully: data.csv\n"
     ]
    }
   ],
   "source": [
    "i = -1\n",
    "# Open the CSV file for writing\n",
    "with open(OUTPUT_CSV, mode='a', newline='', encoding='utf-8') as csv_file:\n",
    "    writer = csv.writer(csv_file)\n",
    "\n",
    "    # Write the header row\n",
    "    writer.writerow([\"File_Path\", \"Category\", \"Target\"])\n",
    "    # Walk through the directory structure\n",
    "    for subdirectory in os.listdir(MUSIC_DIR):\n",
    "        subdirectory_path = os.path.join(MUSIC_DIR, subdirectory)\n",
    "        i = i+1\n",
    "        # Skip if not a directory\n",
    "        if not os.path.isdir(subdirectory_path):\n",
    "            continue\n",
    "\n",
    "        # Process each file in the subdirectory\n",
    "        for file_name in os.listdir(subdirectory_path):\n",
    "            file_path = os.path.join(subdirectory_path, file_name)\n",
    "\n",
    "            # Check if the file is an audio file (optional filter by extensions)\n",
    "            if file_name.endswith(('.wav', '.mp3', '.flac', '.aac')):\n",
    "                # Write the row to the CSV\n",
    "                writer.writerow([file_path, subdirectory, i])\n",
    "\n",
    "print(f\"CSV file created successfully: {OUTPUT_CSV}\")\n",
    "\n",
    " \n"
   ]
  },
  {
   "cell_type": "code",
   "execution_count": null,
   "metadata": {},
   "outputs": [],
   "source": []
  }
 ],
 "metadata": {
  "kernelspec": {
   "display_name": "Python 3",
   "language": "python",
   "name": "python3"
  },
  "language_info": {
   "codemirror_mode": {
    "name": "ipython",
    "version": 3
   },
   "file_extension": ".py",
   "mimetype": "text/x-python",
   "name": "python",
   "nbconvert_exporter": "python",
   "pygments_lexer": "ipython3",
   "version": "3.12.0"
  }
 },
 "nbformat": 4,
 "nbformat_minor": 2
}
